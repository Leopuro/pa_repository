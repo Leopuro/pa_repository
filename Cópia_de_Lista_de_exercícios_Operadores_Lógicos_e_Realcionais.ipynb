{
  "nbformat": 4,
  "nbformat_minor": 0,
  "metadata": {
    "colab": {
      "provenance": [],
      "include_colab_link": true
    },
    "kernelspec": {
      "name": "python3",
      "display_name": "Python 3"
    },
    "language_info": {
      "name": "python"
    }
  },
  "cells": [
    {
      "cell_type": "markdown",
      "metadata": {
        "id": "view-in-github",
        "colab_type": "text"
      },
      "source": [
        "<a href=\"https://colab.research.google.com/github/Leopuro/pa_repository/blob/main/C%C3%B3pia_de_Lista_de_exerc%C3%ADcios_Operadores_L%C3%B3gicos_e_Realcionais.ipynb\" target=\"_parent\"><img src=\"https://colab.research.google.com/assets/colab-badge.svg\" alt=\"Open In Colab\"/></a>"
      ]
    },
    {
      "cell_type": "markdown",
      "source": [
        "# Antes de Qualquer coisa Salve uma cópia no seu drive para não perder os códigos"
      ],
      "metadata": {
        "id": "u7J214bEGDpV"
      }
    },
    {
      "cell_type": "markdown",
      "source": [
        "## vá em arquivos: Salvar uma cópia no Drive"
      ],
      "metadata": {
        "id": "zT3Nb6BfGL56"
      }
    },
    {
      "cell_type": "markdown",
      "source": [
        "#Lista de exercícios - Operadores Lógicos e Relacionais\n",
        "\n"
      ],
      "metadata": {
        "id": "IfPXF-sV3xLF"
      }
    },
    {
      "cell_type": "markdown",
      "source": [
        "Em Python, usamos operadores relacionais e lógicos para fazer comparações e tomar decisões com base em condições. Eles são fundamentais na construção de estruturas de controle como if, while e outras."
      ],
      "metadata": {
        "id": "eIwxJUSq3I9d"
      }
    },
    {
      "cell_type": "markdown",
      "source": [
        "✅ Operadores Relacionais\n",
        "\n",
        "Os operadores relacionais comparam dois valores e retornam um resultado booleano (ou seja, True ou False).\n",
        "\n",
        "**Veja os principais:**\n",
        "\n",
        "\"==\" → verifica se dois valores são iguais\n",
        "\n",
        "\"!=\" → verifica se dois valores são diferentes\n",
        "\n",
        "\">\" → verifica se o valor da esquerda é maior\n",
        "\n",
        "\"<\" → verifica se o valor da esquerda é menor\n",
        "\n",
        "\">=\" → verifica se é maior ou igual\n",
        "\n",
        "\"<=\" → verifica se é menor ou igual\n",
        "\n",
        "✅ Operadores Lógicos\n",
        "\n",
        "Os operadores lógicos são usados para combinar condições. Eles também retornam valores booleanos e são muito úteis quando precisamos verificar mais de uma condição ao mesmo tempo.\n",
        "\n",
        "and (E): Retorna True somente se todas as condições forem verdadeiras\n",
        "\n",
        "or (OU): Retorna True se pelo menos uma das condições for verdadeira\n",
        "\n",
        "not (NÃO): Inverte o valor lógico de uma expressão"
      ],
      "metadata": {
        "id": "wZu_EmmK318x"
      }
    },
    {
      "cell_type": "markdown",
      "source": [
        "## Veja os exemplos abaixo - Execute os códigos um a um para entender, troque os valores para ficar mais fácil o entendimento"
      ],
      "metadata": {
        "id": "8vX8RQvs4dsQ"
      }
    },
    {
      "cell_type": "code",
      "source": [
        "# Operadores Relacionais\n",
        "#  1. Igualdade (==) e Diferença (!=)\n",
        "a = 10\n",
        "b = 5\n",
        "\n",
        "print(a == b)\n",
        "print(a != b)"
      ],
      "metadata": {
        "id": "xNVmeRUMU3OU"
      },
      "execution_count": null,
      "outputs": []
    },
    {
      "cell_type": "markdown",
      "source": [
        "## Aplicação em senhas"
      ],
      "metadata": {
        "id": "5CIZb32GBgh3"
      }
    },
    {
      "cell_type": "code",
      "source": [
        "#entrada\n",
        "senhacerta=\"gostopython\"\n",
        "senha = input(\"Digite a senha: \")\n",
        "#processamento\n",
        "logado = senhacerta == senha\n",
        "#saída\n",
        "print(\"Está logado? \", logado)\n"
      ],
      "metadata": {
        "id": "ihCaXz_WBRNX"
      },
      "execution_count": null,
      "outputs": []
    },
    {
      "cell_type": "code",
      "source": [
        "# 2. Comparações (> , < , >= , <=)\n",
        "x = 8\n",
        "y = 12\n",
        "\n",
        "print(\"X é maior que Y?\", x > y)\n",
        "print(\"X é menor que Y?\",x < y)\n",
        "print(\"X é maior ou igual e Y?\",x >= 8)\n",
        "print(\"X é menor ou igual a Y?\",y <= 10)"
      ],
      "metadata": {
        "id": "fLAmvGGTVhPm"
      },
      "execution_count": null,
      "outputs": []
    },
    {
      "cell_type": "markdown",
      "source": [
        "## aplicação do exemplo anterior mais operador lógico"
      ],
      "metadata": {
        "id": "Vy3Q7wF8Cl40"
      }
    },
    {
      "cell_type": "code",
      "source": [
        "# 3. Operador \"AND\" (E) - Ambos precisam ser verdadeiros\n",
        "idade = 11\n",
        "tem_autorizacao = True\n",
        "\n",
        "podentrar = (idade >= 12 and tem_autorizacao)\n",
        "\n",
        "print(\"Pode entrar no evento?\", podentrar)\n"
      ],
      "metadata": {
        "id": "9dj-xWQ1WOe4"
      },
      "execution_count": null,
      "outputs": []
    },
    {
      "cell_type": "markdown",
      "source": [
        "## Com entrada de dados pelo Teclado"
      ],
      "metadata": {
        "id": "MNGl1vEvCSPN"
      }
    },
    {
      "cell_type": "code",
      "source": [
        "idade = int(input(\"Qual sua idade?\"))\n",
        "autorizacao = input(\"Trouxe autorização do seus responsáveis?\") #resposta tem que ser True ou False\n",
        "\n",
        "podentrar = (idade >= 12 and tem_autorizacao)\n",
        "\n",
        "print(\"Pode entrar no evento?\", podentrar)\n"
      ],
      "metadata": {
        "id": "nSqIDj2u-Rpw"
      },
      "execution_count": null,
      "outputs": []
    },
    {
      "cell_type": "markdown",
      "source": [
        "## outra forma de fazer o mesmo exercício, usando outra entrada de dados\n"
      ],
      "metadata": {
        "id": "uNuVUBkrCXpK"
      }
    },
    {
      "cell_type": "code",
      "source": [
        "idade = int(input(\"Qual sua idade? \"))\n",
        "autorizacao = int(input(\"Trouxe autorização do seus responsáveis?\\nDigite 1 para sim \\nDigite 2 para não: \"))\n",
        "\n",
        "verificacao = autorizacao==1\n",
        "\n",
        "podentrar = (idade >= 12 and verificacao)\n",
        "\n",
        "print(\"Pode entrar no evento?\", podentrar)"
      ],
      "metadata": {
        "id": "711Kvx27-4fm",
        "colab": {
          "base_uri": "https://localhost:8080/"
        },
        "outputId": "0d5ea0da-9a52-45e5-a2c5-b4ba8faf8c44"
      },
      "execution_count": null,
      "outputs": [
        {
          "output_type": "stream",
          "name": "stdout",
          "text": [
            "Qual sua idade? 24\n",
            "Trouxe autorização do seus responsáveis?\n",
            "Digite 1 para sim \n",
            "Digite 2 para não: 11\n",
            "Pode entrar no evento? False\n"
          ]
        }
      ]
    },
    {
      "cell_type": "code",
      "source": [
        "# 4. Operador \"OR\" (OU) - Basta um ser verdadeiro\n",
        "tem_ingresso = False\n",
        "nome_na_lista = False\n",
        "\n",
        "podeentrar = tem_ingresso or nome_na_lista\n",
        "\n",
        "print(\"Pode entrar na festa? \", podeentrar )"
      ],
      "metadata": {
        "id": "pR0TrqcMWx1f"
      },
      "execution_count": null,
      "outputs": []
    },
    {
      "cell_type": "code",
      "source": [
        "# 5. Operador \"NOT\" (NÃO) - Inverte o valor\n",
        "chovendo = True\n",
        "\n",
        "print(not chovendo)"
      ],
      "metadata": {
        "id": "g5C5xYyMW_rZ"
      },
      "execution_count": null,
      "outputs": []
    },
    {
      "cell_type": "code",
      "source": [
        "# 6. Misturando Relacionais + Lógicos\n",
        "nota = 7\n",
        "presenca = 65\n",
        "\n",
        "print(nota >= 6 and presenca >= 75)\n"
      ],
      "metadata": {
        "id": "MCpdGwU1XETi"
      },
      "execution_count": null,
      "outputs": []
    },
    {
      "cell_type": "markdown",
      "source": [
        "##Exemplo: Soma de 3 valores com desconto automático (sem if)\n",
        "\n",
        "O usuário terá desconto se a soma dos valores for maior que R$ 1000,00"
      ],
      "metadata": {
        "id": "t0n3Ajr-Ebfw"
      }
    },
    {
      "cell_type": "code",
      "source": [
        "# 7. com cálculos no meio.\n",
        "\n",
        "# Solicita três valores ao usuário\n",
        "v1 = float(input(\"Digite o valor do primeiro produto: \"))\n",
        "v2 = float(input(\"Digite o valor do segundo produto:  \"))\n",
        "v3 = float(input(\"Digite o valor do terceiro produto:  \"))\n",
        "\n",
        "# Soma total\n",
        "total = v1 + v2 + v3\n",
        "\n",
        "desconto =(total >= 1000)\n",
        "\n",
        "print(\"Vai ter desconto? \", desconto)"
      ],
      "metadata": {
        "id": "GpzpYjATEH_1"
      },
      "execution_count": null,
      "outputs": []
    },
    {
      "cell_type": "markdown",
      "source": [
        "##Seguindo os exemplos anteriores.  Faça os outros em seguida:\n",
        "\n",
        "# Importante: NÃO USE O CONDICIONAL IF. É obrigatório o uso apenas de operadores lógicos, relacioais e variáveis."
      ],
      "metadata": {
        "id": "MIudH-lZ4g35"
      }
    },
    {
      "cell_type": "markdown",
      "source": [
        "1- Solicite ao usuário a idade; Pergunte se está com responsável;\n",
        "\n",
        "Regra: A entrada para o cinema é permitida se a pessoa tiver 14 anos ou mais ou estiver acompanhada de um responsável.\n",
        "\n",
        "Na Saída informa se é True ou False, a possivel entrada no Cinema.\n",
        "\n",
        "Exemplo: Pode entrar no Cinema?....\n",
        "\n",
        "A Resposta esperada sera True ou False"
      ],
      "metadata": {
        "id": "A847ArYB4zIG"
      }
    },
    {
      "cell_type": "code",
      "source": [
        "\n",
        "idade = int(input(\"Quantos anos possui? \"))\n",
        "autorizacao = int(input(\"Esta acompanhado de algum responsavel???\\nDigite 1 se sim \\nDigite 2 se não: \"))\n",
        "verificar = autorizacao==1\n",
        "Barrar = (idade <= 14 and autorizacao)\n",
        "Pode_entrar = (idade >= 14 and autorizacao)\n",
        "print(\"Deixar entrar?\", Pode_entrar)"
      ],
      "metadata": {
        "id": "RWkY0IusDp1F",
        "colab": {
          "base_uri": "https://localhost:8080/"
        },
        "outputId": "2205eb05-a728-42f3-97f6-e3ceefb5e791"
      },
      "execution_count": 1,
      "outputs": [
        {
          "output_type": "stream",
          "name": "stdout",
          "text": [
            "Quantos anos possui? 13\n",
            "Esta acompanhado de algum responsavel???\n",
            "Digite 1 se sim \n",
            "Digite 2 se não: 2\n",
            "Deixar entrar? False\n"
          ]
        }
      ]
    },
    {
      "cell_type": "markdown",
      "source": [
        "2- Um jogador só recebe promoção se: tiver mais de 1000 pontos OU for assinante premium.\n",
        "* Solicite os pontos na primeira entrada;\n",
        "* Solicite que tipo de assinante ele é;\n",
        "* Na saída informa se é Verdadeiro ou Falso a promoção;"
      ],
      "metadata": {
        "id": "1Z7RsUTF44M5"
      }
    },
    {
      "cell_type": "code",
      "source": [
        "pontos = int(input(\"Quantos pontos você fez? \"))\n",
        "promossao = (pontos >= 1000)\n",
        "assinante = int(input(\"Você é assinante premium? \\nDigite 1 se sim \\n Digite 2 se não: \"))\n",
        "Assinou = assinante==1\n",
        "print(\"Promovido por ser assinante?\", Assinou)\n",
        "print(\"Promovido por pontuação? \", promossao)"
      ],
      "metadata": {
        "id": "QRHx7-KtDqVZ",
        "colab": {
          "base_uri": "https://localhost:8080/"
        },
        "outputId": "96055b1f-dd31-424f-a946-c97d53ad5686"
      },
      "execution_count": null,
      "outputs": [
        {
          "output_type": "stream",
          "name": "stdout",
          "text": [
            "Quantos pontos você fez? 800\n",
            "Você é assinante premium? \n",
            "Digite 1 se sim \n",
            " Digite 2 se não: 2\n",
            "Promovido por ser assinante? False\n",
            "Promovido por pontuação?  False\n"
          ]
        }
      ]
    },
    {
      "cell_type": "markdown",
      "source": [
        "3- Solicite um valor ao usuário.\n",
        "* Verifique se o número que o usuário digitou está entre 10 e 20\n",
        "* Na saída infome se é verdadeiro ou falso. }Exemplo saída. \"O número está entre 10 e 20\". A resposta será True ou False."
      ],
      "metadata": {
        "id": "tAFfmQ8u459E"
      }
    },
    {
      "cell_type": "code",
      "source": [
        "Valor = int(input(\"Digite um valor entre 10 e 20: \"))\n",
        "Verificar = (Valor >= 10 and Valor <= 20)\n",
        "print(\"O número esta entre 10 e 20?\", Verificar)\n"
      ],
      "metadata": {
        "id": "6WjvOAV_DqsF",
        "colab": {
          "base_uri": "https://localhost:8080/"
        },
        "outputId": "d5db40a0-1c2e-4390-9db8-0c50d591790d"
      },
      "execution_count": null,
      "outputs": [
        {
          "output_type": "stream",
          "name": "stdout",
          "text": [
            "Digite um valor entre 10 e 20: 21\n",
            "O número esta entre 10 e 20? False\n"
          ]
        }
      ]
    },
    {
      "cell_type": "markdown",
      "source": [
        "4- Solicite a idade da pessoa, e pergunte quanto ela tem em dinheiro.\n",
        "\n",
        "* A pessoa pode fazer uma viagem se: tiver mais de 18 anos E tiver mais de R$ 2000,00\n",
        "\n",
        "* Na Saída informe se é Verdeiro ou falso A possibilidade da Viagem. Exemplo: Vai viajar? - O retorno será True or False"
      ],
      "metadata": {
        "id": "gx_l2c025hNr"
      }
    },
    {
      "cell_type": "code",
      "source": [
        "Idade = int(input(\"Quantos anos você tem?\"))\n",
        "VerificarI = (Idade >= 18)\n",
        "Viagem = int(input(\"Vai viajar? \\nDigite 1 se Sim \\nDigite 2 se Não:\"))\n",
        "VerificarV = Viagem==1\n",
        "dinheiro = int(input(\"Vai ser necessário no minimo R$2000 para a viagem, quanto você possui?\"))\n",
        "VerificarD = (dinheiro >= 2000)\n",
        "print(\"Você é de maior?\", VerificarI)\n",
        "print(\"Vai viajar?\", VerificarV)\n",
        "print(\"Tem dinheiro o suficiente\", VerificarD)\n"
      ],
      "metadata": {
        "id": "__EsZX4nDrF8",
        "colab": {
          "base_uri": "https://localhost:8080/"
        },
        "outputId": "0975eb36-94fd-48d5-f18f-1d75bd6662d1"
      },
      "execution_count": null,
      "outputs": [
        {
          "output_type": "stream",
          "name": "stdout",
          "text": [
            "Quantos anos você tem?18\n",
            "Vai viajar? \n",
            "Digite 1 se Sim \n",
            "Digite 2 se Não:1\n",
            "Vai ser necessário no minimo R$2000 para a viagem, quanto você possui?3000\n",
            "Você é de maior? True\n",
            "Vai viajar? True\n",
            "Tem dinheiro o suficiente True\n"
          ]
        }
      ]
    },
    {
      "cell_type": "markdown",
      "source": [
        "5- Solicite a idade da pessoa, e pergunte quanto ela tem em dinheiro e agora pergunte se ela vai viajar com os pais.\n",
        "\n",
        "* A pessoa pode fazer uma viagem se: (tiver mais de 18 anos E tiver mais de R$ 2000,00) ou se ela estiver com os pais.\n",
        "\n",
        "* Na Saída informe se é Verdeiro ou falso A possibilidade da Viagem. Exemplo: Vai viajar? - O retorno será True or False\n"
      ],
      "metadata": {
        "id": "e4zE89vu6AsO"
      }
    },
    {
      "cell_type": "code",
      "source": [
        "Idade = int(input(\"Quantos anos você tem?\"))\n",
        "VerificarI = (Idade >= 18)\n",
        "Viagem = int(input(\"Vai viajar? \\nDigite 1 se Sim \\nDigite 2 se Não:\"))\n",
        "VerificarV = Viagem==1\n",
        "Viajar_com_os_Pais = int(input(\"Você vai viajar com seus pais? \\nDigite 1 se Sim \\nDigite 2 Não: \"))\n",
        "VerificarVCP = Viajar_com_os_Pais==1\n",
        "dinheiro = int(input(\"Vai ser necessário no minimo R$2000 para a viagem, quanto você possui?\"))\n",
        "VerificarD = (dinheiro >= 2000)\n",
        "print(\"Você é de maior?\", VerificarI)\n",
        "print(\"Vai viajar?\", VerificarV)\n",
        "print(\"Tem dinheiro o suficiente\", VerificarD)\n"
      ],
      "metadata": {
        "id": "FIj0zQUXDrif",
        "colab": {
          "base_uri": "https://localhost:8080/"
        },
        "outputId": "d814144a-764b-4df0-a5e1-b18e46fa4019"
      },
      "execution_count": null,
      "outputs": [
        {
          "output_type": "stream",
          "name": "stdout",
          "text": [
            "Quantos anos você tem?18\n",
            "Vai viajar? \n",
            "Digite 1 se Sim \n",
            "Digite 2 se Não:1\n",
            "Você vai viajar com seus pais? \n",
            "Digite 1 se Sim \n",
            "Digite 2 Não: 1\n",
            "Vai ser necessário no minimo R$2000 para a viagem, quanto você possui?3000\n",
            "Você é de maior? True\n",
            "Vai viajar? True\n",
            "Tem dinheiro o suficiente True\n"
          ]
        }
      ]
    },
    {
      "cell_type": "markdown",
      "source": [
        "6-Solicite três notas ao usuário e calcule a média e também solicite quantos dias letivos tem no ano e quantas faltas ele teve.\n",
        "\n",
        "* Calcule a média (somando as notas e dividindo por 3)\n",
        "* Calcule o percential de faltas (Divida a quantidade de faltas pela quantidade de dias letivos e multiplique por 100).\n",
        "* Depois subtraia de 100 esse valor e obterá o percentual de presença\n",
        "\n",
        "Exemplo se o aluno faltou 5 vezes em 100 dias letivos:\n",
        "\n",
        "faltas = 5/100, obterá: 0,05, que multiplicando por 100 será 5.\n",
        "result = faltas * 100. Ou seja, 5% de faltas.\n",
        "\n",
        "percentual = 100 - result. Valor obtido nesse caso será 95, que representa 95% de presença.\n",
        "\n",
        "\n",
        "* Para passar de ano, o aluno precisa de nota maior ou igual a 6 E presença maior ou igual a 75%\n",
        "\n",
        "* Na saída informe se é verdadeiro ou falso que ele irá passar de ano. Exemplo: Vai passar de Ano? Ira ter como resposta: True or False\n"
      ],
      "metadata": {
        "id": "YwP3YbWN41v1"
      }
    },
    {
      "cell_type": "code",
      "source": [
        "média = int(input(\"Diga sua nota este mês:\"))\n",
        "média2 = int(input(\"E a de um mês atrás? \"))\n",
        "média3 = int(input(\"E a de três meses atrás? \"))\n",
        "calcular_as_médias = (média + média2 + média2 / 3)\n",
        "VerificarMé = (calcular_as_médias >= 6)\n",
        "dias_letivos = int(input(\"Quantos dias letivos você possui em sua escola?\"))\n",
        "faltas = int(input(\"Quantas vezes você faltou nesses dias?\"))\n",
        "percentua_de_faltas = (faltas/dias_letivos*100)\n",
        "percentual_de_presença = (100-percentua_de_faltas)\n",
        "VerificarPre = (percentual_de_presença >= 75)\n",
        "Passar_de_ano = (VerificarMé and VerificarPre)\n",
        "print(\"Você está na média?\", VerificarMé)\n",
        "print(\"Você está com uma boa presença?\", VerificarPre)\n",
        "print(\"Vai passar de ano?\", Passar_de_ano)\n",
        "\n"
      ],
      "metadata": {
        "id": "BjfMiCxRDr-h",
        "colab": {
          "base_uri": "https://localhost:8080/"
        },
        "outputId": "ae1c4a58-c6c9-4698-c582-f0ba75d14864"
      },
      "execution_count": 9,
      "outputs": [
        {
          "output_type": "stream",
          "name": "stdout",
          "text": [
            "Diga sua nota este mês:2\n",
            "E a de um mês atrás? 2\n",
            "E a de três meses atrás? 2\n",
            "Quantos dias letivos você possui em sua escola?100\n",
            "Quantas vezes você faltou nesses dias?16\n",
            "Você está na média? False\n",
            "Você está com uma boa presença? True\n",
            "Vai passar de ano? False\n"
          ]
        }
      ]
    },
    {
      "cell_type": "markdown",
      "source": [
        "7) Peça para o usuário digitar um valor informe se ele é par ou impar"
      ],
      "metadata": {
        "id": "IOXzmuPgzrUz"
      }
    },
    {
      "cell_type": "code",
      "source": [
        "Valor2 = int(input(\"Digite um valor: \"))\n",
        "impar = (Valor2 % 2 == 1)\n",
        "Par = (Valor2 % 2 == 0)\n",
        "print(\"É Impar?\", impar)\n",
        "print(\"É par?\", Par)"
      ],
      "metadata": {
        "id": "W3s-pjSNzuxj",
        "colab": {
          "base_uri": "https://localhost:8080/"
        },
        "outputId": "ff2a7152-e85b-4c37-b565-0e5d5b85bc4a"
      },
      "execution_count": 15,
      "outputs": [
        {
          "output_type": "stream",
          "name": "stdout",
          "text": [
            "Digite um valor: 6\n",
            "É Impar? False\n",
            "É par? True\n"
          ]
        }
      ]
    },
    {
      "cell_type": "markdown",
      "source": [
        "8 ) Faça um algoritmo em Python que receba o valor de três lados de um possível triângulo (l1, l2 e l3) e utilize operadores relacionais e lógicos para:\n",
        "\n",
        "1.\tVerificar se os valores informados podem formar um triângulo.\n",
        "2.\tIdentificar se o triângulo é equilátero, escaleno ou isósceles.\n",
        "\n",
        "O programa deve atribuir True ou False para cada uma das seguintes variáveis:\n",
        "* triangulo: True se os lados puderem formar um triângulo.\n",
        "* equilatero: True se o triângulo for equilátero.\n",
        "* escaleno: True se o triângulo for escaleno.\n",
        "* isosceles: True se o triângulo for isósceles.\n",
        "\n",
        "Dica: Um triângulo só é possível se a soma de dois lados for maior que o terceiro, para os três pares possíveis.\n",
        "\n",
        "Lógica necessária\n",
        "\n",
        "Para ser um triângulo:\n",
        "\n",
        "* l1+l2>l3 e\n",
        "* l1+l3>l2l e\n",
        "* l2+l3>l1\n",
        "\n",
        "Tipos de triângulo:\n",
        "* Equilátero: todos os lados iguais.\n",
        "* Escaleno: todos os lados diferentes.\n",
        "* Isósceles: dois lados iguais."
      ],
      "metadata": {
        "id": "fDwuVk9JzvWr"
      }
    },
    {
      "cell_type": "code",
      "source": [
        "lado1 = float(input(\"Qual o tamanho do primeiro lado? \"))\n",
        "lado2 = float(input(\"Qual o tamanho do segundo lado? \"))\n",
        "lado3 = float(input(\"Qual o tamanho do terceiro lado? \"))\n",
        "triangulo = (lado1 + lado2 > lado3) and (lado1 + lado3 > lado2)\n",
        "equilatero = (lado1 == lado2 == lado3)\n",
        "escaleno = (lado1 != lado2 != lado3)\n",
        "isósceles = triangulo and ( (lado1 == lado2) or (lado2 == lado3) or (lado3 == lado1) ) and (not equilatero)\n",
        "print(\"É um triangulo?\", triangulo)\n",
        "print(\"O mesmo é equilatero?\", equilatero)\n",
        "print(\"O mesmo é um escaleno?\", escaleno)\n",
        "print(\"O mesmo é um isósceles?\", isósceles)\n"
      ],
      "metadata": {
        "id": "K57FadkSz1DL",
        "colab": {
          "base_uri": "https://localhost:8080/"
        },
        "outputId": "a894c190-e52a-4845-d1d7-502c593dfe9d"
      },
      "execution_count": 17,
      "outputs": [
        {
          "output_type": "stream",
          "name": "stdout",
          "text": [
            "Qual o tamanho do primeiro lado? 2\n",
            "Qual o tamanho do segundo lado? 3\n",
            "Qual o tamanho do terceiro lado? 2\n",
            "É um triangulo? True\n",
            "O mesmo é equilatero? False\n",
            "O mesmo é um escaleno? True\n",
            "O mesmo é um isósceles? True\n"
          ]
        }
      ]
    },
    {
      "cell_type": "markdown",
      "source": [
        "9) Faça um programa que solicite peso e altura, informe seu IMC. Ao final informe se ele está, abaixo do peso,peso ideal ou acima do peso. fórmula do IMC: (peso/altura^2), siga a tabela abaixo:\n",
        "\n",
        "IMC \t                    \n",
        "* Menos do que 18,5 ==> Abaixo do Peso\n",
        "* Entre 18,5 e 24,9  ==>Peso normal\n",
        "* Entre 25 e 29,9  ==> \tSobrepeso\n",
        "* Entre 30 e 34,9  ==> \tObesidade grau 1\n",
        "* Entre 35 e 39,9  ==> \tObesidade grau 2\n",
        "* Mais do que 40 \t  ==> Obesidade grau 3"
      ],
      "metadata": {
        "id": "ymt6F0gqz2E7"
      }
    },
    {
      "cell_type": "code",
      "source": [
        "peso = int(input(\"Qual o seu peso?\"))\n",
        "altura = float(input(\"Qual a sua altura?\"))\n",
        "IMC = (peso / altura ** 2)\n",
        "abaixo_do_peso = (IMC < 18.5)\n",
        "peso_normal = (IMC>=18.5 and IMC<=24.9)\n",
        "sobrepeso = (IMC >=25 and IMC <= 29.9)\n",
        "obesidade1 = (IMC >= 30 and IMC <= 34.9)\n",
        "obesidde2 = (IMC >= 35 and IMC <= 39.9)\n",
        "MAN_TU_É_GORDO = (IMC >= 40)\n",
        "print(\"Aonde estiver escrito 'True' é a faixa em que você está! \\nAbaixo do peso:\", abaixo_do_peso)\n",
        "print(\"Peso normal:\", peso_normal)\n",
        "print(\"Sobrepeso:\", sobrepeso)\n",
        "print(\"Obeso Grau 1:\", obesidade1, \"\\n(Já é o suficiente para começar a sofrer bullyng)\")\n",
        "print(\"Obeso Grau 2:\", obesidde2)\n",
        "print(\"SIMPLESMENTE OBESO!\", MAN_TU_É_GORDO, \"\\n(Tá tentando competir com a Thais Carla???)\")"
      ],
      "metadata": {
        "id": "RDkZYCOVz50b",
        "colab": {
          "base_uri": "https://localhost:8080/"
        },
        "outputId": "b00005c8-4cae-4c04-e480-89768eebd888"
      },
      "execution_count": 25,
      "outputs": [
        {
          "output_type": "stream",
          "name": "stdout",
          "text": [
            "Qual o seu peso?58\n",
            "Qual a sua altura?1.7\n",
            "Aonde estiver escrito 'True' é a faixa em que você está! \n",
            "Abaixo do peso: False\n",
            "Peso normal: True\n",
            "Sobrepeso: False\n",
            "Obeso Grau 1: False \n",
            "(Já é o suficiente para começar a sofrer bullyng)\n",
            "Obeso Grau 2: False\n",
            "SIMPLESMENTE OBESO! False \n",
            "(Tá tentando competir com a Thais Carla???)\n"
          ]
        }
      ]
    },
    {
      "cell_type": "markdown",
      "source": [
        "10) Faça um programa que solicite altura e idade do usuário, informe se ele pode ou nao competir. Regras: Para competir no campeonato de vôlei o usuário de ter pelo menos 1.75 de altura e 18 anos."
      ],
      "metadata": {
        "id": "29dWEOf3z9hj"
      }
    },
    {
      "cell_type": "code",
      "source": [
        "Altura = float(input(\"Qual a sua altura? \"))\n",
        "Idade = int(input(\"Quantos anos tu tens? \"))\n",
        "Pode_participar = (Altura >= 1.75 and Idade >= 18)\n",
        "print(\"Ele(a) Pode participar?\", Pode_participar)"
      ],
      "metadata": {
        "id": "GmDaYiUvz_TZ",
        "colab": {
          "base_uri": "https://localhost:8080/"
        },
        "outputId": "b308e815-4617-44a8-ce22-94859dda90c9"
      },
      "execution_count": 26,
      "outputs": [
        {
          "output_type": "stream",
          "name": "stdout",
          "text": [
            "Qual a sua altura? 1.7\n",
            "Quantos anos tu tens? 58\n",
            "Ele(a) Pode participar? False\n"
          ]
        }
      ]
    }
  ]
}