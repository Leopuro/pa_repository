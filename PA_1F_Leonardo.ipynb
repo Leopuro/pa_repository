{
  "nbformat": 4,
  "nbformat_minor": 0,
  "metadata": {
    "colab": {
      "provenance": [],
      "authorship_tag": "ABX9TyP8vYHFxwp1Tsf/JBWj+Zl9",
      "include_colab_link": true
    },
    "kernelspec": {
      "name": "python3",
      "display_name": "Python 3"
    },
    "language_info": {
      "name": "python"
    }
  },
  "cells": [
    {
      "cell_type": "markdown",
      "metadata": {
        "id": "view-in-github",
        "colab_type": "text"
      },
      "source": [
        "<a href=\"https://colab.research.google.com/github/Leopuro/pa_repository/blob/main/PA_1F_Leonardo.ipynb\" target=\"_parent\"><img src=\"https://colab.research.google.com/assets/colab-badge.svg\" alt=\"Open In Colab\"/></a>"
      ]
    },
    {
      "cell_type": "code",
      "source": [],
      "metadata": {
        "id": "g28J_S-b4taz"
      },
      "execution_count": null,
      "outputs": []
    },
    {
      "cell_type": "markdown",
      "source": [
        "# EXERCÍCIOS"
      ],
      "metadata": {
        "id": "alyrqUJst2B7"
      }
    },
    {
      "cell_type": "code",
      "source": [
        "# 1 - Use o método len para imprimir o comprimento da string.\n",
        "x = \"Hello World\"\n",
        "print(len(x))"
      ],
      "metadata": {
        "id": "VaXue1uMuGtE",
        "outputId": "8f529f09-9e9d-4a2c-9a32-d664f9316aff",
        "colab": {
          "base_uri": "https://localhost:8080/"
        }
      },
      "execution_count": null,
      "outputs": [
        {
          "output_type": "stream",
          "name": "stdout",
          "text": [
            "11\n"
          ]
        }
      ]
    },
    {
      "cell_type": "code",
      "source": [
        "# 2 - Obtenha o primeiro caractere da string txt.\n",
        "txt = \"Hello World\"\n",
        "x = (txt[0])\n",
        "print(x)"
      ],
      "metadata": {
        "id": "hE23s19XuT9V",
        "outputId": "5fc8e88e-8fe0-497c-f2b1-70015337c064",
        "colab": {
          "base_uri": "https://localhost:8080/"
        }
      },
      "execution_count": null,
      "outputs": [
        {
          "output_type": "stream",
          "name": "stdout",
          "text": [
            "H\n"
          ]
        }
      ]
    },
    {
      "cell_type": "code",
      "source": [
        "# 3 - Obtenha os caracteres do índice 2 ao índice 4 ( llo).\n",
        "txt = \"Hello World\"\n",
        "x = txt[2:][:4]\n",
        "print(x)"
      ],
      "metadata": {
        "id": "u5G2G2Icuh_5",
        "outputId": "0db49928-1cb3-4694-97a5-ac57c096e53a",
        "colab": {
          "base_uri": "https://localhost:8080/"
        }
      },
      "execution_count": null,
      "outputs": [
        {
          "output_type": "stream",
          "name": "stdout",
          "text": [
            "llo \n"
          ]
        }
      ]
    },
    {
      "cell_type": "code",
      "source": [
        "# 4 - Converta o valor de txt para maiúsculas.\n",
        "txt = \"Hello World\"\n",
        "txt = txt.upper()\n",
        "print(txt)"
      ],
      "metadata": {
        "id": "i_QREABlusUY",
        "outputId": "645beda9-9d1e-4474-97c4-ab90610610a7",
        "colab": {
          "base_uri": "https://localhost:8080/"
        }
      },
      "execution_count": null,
      "outputs": [
        {
          "output_type": "stream",
          "name": "stdout",
          "text": [
            "HELLO WORLD\n"
          ]
        }
      ]
    },
    {
      "cell_type": "code",
      "source": [
        "# 5 - Conte quantas vezes aparece a palavra \"de\" na string abaixo\n",
        "txt = \"Eu gosto de vijar, tomar vinho, de estudar estudar programação, de estudar Pyhon\"\n",
        "txt.count(\"de\")"
      ],
      "metadata": {
        "id": "nVC1pSwq2PDH",
        "outputId": "a1440b9b-ff3b-4263-8309-fb2d43054dfd",
        "colab": {
          "base_uri": "https://localhost:8080/"
        }
      },
      "execution_count": null,
      "outputs": [
        {
          "output_type": "execute_result",
          "data": {
            "text/plain": [
              "3"
            ]
          },
          "metadata": {},
          "execution_count": 48
        }
      ]
    },
    {
      "cell_type": "code",
      "source": [
        "# 6 - Separe a frase abaixo toda vez que encontrar um vírgula\n",
        "txt = \"Eu gosto de vijar, tomar vinho, de estudar estudar programação, de estudar Pyhon\"\n",
        "txt.split(\",\")"
      ],
      "metadata": {
        "id": "tkUBrdQH3OUR",
        "outputId": "0b55fb53-39cd-432f-84fb-3b95d4e4775d",
        "colab": {
          "base_uri": "https://localhost:8080/"
        }
      },
      "execution_count": null,
      "outputs": [
        {
          "output_type": "execute_result",
          "data": {
            "text/plain": [
              "['Eu gosto de vijar',\n",
              " ' tomar vinho',\n",
              " ' de estudar estudar programação',\n",
              " ' de estudar Pyhon']"
            ]
          },
          "metadata": {},
          "execution_count": 50
        }
      ]
    },
    {
      "cell_type": "code",
      "source": [
        "#7 - Peça ao usuário uma frase e substitua todas as ocorrências de espaço por “#”.\n",
        "Frase =(input(\"Digite uma fraze: \"))\n",
        "Espaço = Frase.replace(\" \", \"#\")\n",
        "print(Espaço)\n",
        "\n"
      ],
      "metadata": {
        "id": "WZn4Jk5OtYaV",
        "outputId": "bd0f4187-66ff-4d50-9caa-653426e5857b",
        "colab": {
          "base_uri": "https://localhost:8080/"
        }
      },
      "execution_count": null,
      "outputs": [
        {
          "output_type": "stream",
          "name": "stdout",
          "text": [
            "Digite uma fraze: Hallo!! Hehehe Bem?\n",
            "Hallo!!#Hehehe#Bem?\n"
          ]
        }
      ]
    },
    {
      "cell_type": "code",
      "source": [
        "# 8 - Faça um programa que retorne True se duas strings lidas do teclado são palíndromas mútuas, ou seja, se uma é igual à outra quando lida de traz para frente ou False, se não forem.\n",
        "# Por exemplo: amor e roma\n",
        "\n",
        "Palavra = (input(\"digite uma palavra: \"))\n",
        "Palavra2 = (input(\"Digite outra palavra: \"))\n",
        "Comparação = Palavra == Palavra2[::-1]\n",
        "print(Comparação)\n"
      ],
      "metadata": {
        "id": "xMzTvD-StfcV",
        "outputId": "71bc4060-b302-42d5-8c94-19db17976405",
        "colab": {
          "base_uri": "https://localhost:8080/"
        }
      },
      "execution_count": null,
      "outputs": [
        {
          "output_type": "stream",
          "name": "stdout",
          "text": [
            "digite uma palavra: hai\n",
            "Digite outra palavra: iah\n",
            "True\n"
          ]
        }
      ]
    },
    {
      "cell_type": "code",
      "source": [
        "# 9- Faça um programa que leia o nome do usuário e mostre o nome de traz para frente, utilizando somente letras maiúsculas.\n",
        "Nome = (input(\"Coloque seu nome aqui, pls: \"))\n",
        "emoN = Nome[::-1].upper()\n",
        "print(emoN)"
      ],
      "metadata": {
        "id": "Q-VT1F6StorW",
        "outputId": "58abaf0e-4619-4257-e9f8-c231ca7232e0",
        "colab": {
          "base_uri": "https://localhost:8080/"
        }
      },
      "execution_count": null,
      "outputs": [
        {
          "output_type": "stream",
          "name": "stdout",
          "text": [
            "Coloque seu nome aqui, pls: Hallo\n",
            "OLLAH\n"
          ]
        }
      ]
    },
    {
      "cell_type": "markdown",
      "source": [
        "# **Exercícios**\n",
        "##Exercício 1: Manipulação de Listas\n",
        "\n",
        "- Defina uma lista com 5 nomes de cidades.\n",
        "- Adicione uma nova cidade ao final da lista.\n",
        "- Remova a segunda cidade da lista.\n",
        "- Imprima a lista resultante."
      ],
      "metadata": {
        "id": "Y_YJtHALyD7j"
      }
    },
    {
      "cell_type": "code",
      "source": [
        "cidades = [\"Ribeirão Pires\", \"Maua\", \"Campo Grande\", \"São Paulo\", \"Ouro Fino\"]"
      ],
      "metadata": {
        "id": "F7PpZmzsyJkj"
      },
      "execution_count": null,
      "outputs": []
    },
    {
      "cell_type": "code",
      "source": [
        "cidades.append  (\"São Caetano\")"
      ],
      "metadata": {
        "id": "1wX9LCaV2sae"
      },
      "execution_count": null,
      "outputs": []
    },
    {
      "cell_type": "code",
      "source": [
        "cidades.remove (\"Maua\")"
      ],
      "metadata": {
        "id": "1ixiIiW13WEf"
      },
      "execution_count": null,
      "outputs": []
    },
    {
      "cell_type": "code",
      "source": [
        "print(cidades)"
      ],
      "metadata": {
        "id": "i0XyxMCH3vXe",
        "outputId": "5ed536bd-69fc-4862-8852-0c6200eb27f3",
        "colab": {
          "base_uri": "https://localhost:8080/"
        }
      },
      "execution_count": null,
      "outputs": [
        {
          "output_type": "stream",
          "name": "stdout",
          "text": [
            "['Ribeirão Pires', 'Campo Grande', 'São Paulo', 'Ouro Fino', 'São Caetano']\n"
          ]
        }
      ]
    },
    {
      "cell_type": "markdown",
      "source": [
        "##Exercício 2: Operações com Tuplas\n",
        "\n",
        "- Defina uma tupla com 4 cores.\n",
        "- Crie uma nova tupla que seja a concatenação da tupla original com outra contendo mais 2 cores.\n",
        "- Imprima a nova tupla."
      ],
      "metadata": {
        "id": "chLTYNQGyUrj"
      }
    },
    {
      "cell_type": "code",
      "source": [
        "cores = (\"azul\", \"vermelho\", \"verde\", \"Laranja\")"
      ],
      "metadata": {
        "id": "TdRLrGUoyaHa"
      },
      "execution_count": null,
      "outputs": []
    },
    {
      "cell_type": "code",
      "source": [
        "mais_cores = cores + (\"Amarelo\",)\n",
        "print(mais_cores)"
      ],
      "metadata": {
        "id": "upKIH8Xz4SVl",
        "outputId": "0565ad2a-87cb-4d32-c40b-73c986407930",
        "colab": {
          "base_uri": "https://localhost:8080/"
        }
      },
      "execution_count": null,
      "outputs": [
        {
          "output_type": "stream",
          "name": "stdout",
          "text": [
            "('vermelho', 'verde', 'azul', 'Amarelo')\n"
          ]
        }
      ]
    },
    {
      "cell_type": "markdown",
      "source": [
        "##Exercício 3: Dicionários Simples\n",
        "\n",
        "Crie um dicionário para representar um aluno, contendo \"nome\", \"idade\" e \"curso\".\n",
        "- Atualize a idade do aluno.\n",
        "- Adicione uma nova chave \"nota\" com um valor.\n",
        "- Imprima o dicionário atualizado"
      ],
      "metadata": {
        "id": "5eLz2Zvvygej"
      }
    },
    {
      "cell_type": "code",
      "source": [
        "aluno = {\n",
        "    \"Nome\":\"Gabriel\",\n",
        "    \"idade\": 19,\n",
        "    \"curso\":\"Artes\"\n",
        "}"
      ],
      "metadata": {
        "id": "g3w1JYkIy1fy"
      },
      "execution_count": null,
      "outputs": []
    },
    {
      "cell_type": "code",
      "source": [
        "print(aluno)"
      ],
      "metadata": {
        "id": "6tQ8mYvh6jEU",
        "outputId": "9cdcdd36-1a32-4196-bc8a-f95c7beaca5f",
        "colab": {
          "base_uri": "https://localhost:8080/"
        }
      },
      "execution_count": null,
      "outputs": [
        {
          "output_type": "stream",
          "name": "stdout",
          "text": [
            "{'Nome': 'Gabriel', 'idade': 19, 'curso': 'Artes'}\n"
          ]
        }
      ]
    },
    {
      "cell_type": "code",
      "source": [
        "aluno[\"nota\"] = 9"
      ],
      "metadata": {
        "id": "l8pKzqbi6w8k"
      },
      "execution_count": null,
      "outputs": []
    },
    {
      "cell_type": "code",
      "source": [
        "print(aluno)"
      ],
      "metadata": {
        "id": "OKH2h2pf7dWN",
        "outputId": "fa02a6f6-7c85-4413-8962-16c10146a98d",
        "colab": {
          "base_uri": "https://localhost:8080/"
        }
      },
      "execution_count": null,
      "outputs": [
        {
          "output_type": "stream",
          "name": "stdout",
          "text": [
            "{'Nome': 'Gabriel', 'idade': 19, 'curso': 'Artes', 'nota': 9}\n"
          ]
        }
      ]
    },
    {
      "cell_type": "markdown",
      "source": [
        "##Exercício 4: Listas e Dicionários\n",
        "\n",
        "- Crie uma lista de dicionários, onde cada dicionário representa um produto com as chaves \"nome\" e \"preço\".\n",
        "- Adicione um novo produto à lista.\n",
        "- Atualize o preço do primeiro produto na lista.\n",
        "- Imprima a lista resultante."
      ],
      "metadata": {
        "id": "6IhHbYV3y7ES"
      }
    },
    {
      "cell_type": "code",
      "source": [
        "Nome = {\"buxa\", \"peda comum\", \"pão mordido\", \"Creme do Carlinhos\"}\n",
        "Preço = {6.9, 38, 2001, 11.9}\n",
        "Lista_sinistra = [Nome, Preço]"
      ],
      "metadata": {
        "id": "OgnFiZ2qzGAD"
      },
      "execution_count": null,
      "outputs": []
    },
    {
      "cell_type": "code",
      "source": [
        "Lista_sinistra.append(\"Sinistagem\")"
      ],
      "metadata": {
        "id": "xk2AL-U59N7K"
      },
      "execution_count": null,
      "outputs": []
    },
    {
      "cell_type": "code",
      "source": [
        "Novo_Preço = {7, 308, 21, 999}"
      ],
      "metadata": {
        "id": "3MyuzUBl90Vb"
      },
      "execution_count": null,
      "outputs": []
    },
    {
      "cell_type": "code",
      "source": [
        "Preço.update (Novo_Preço)\n"
      ],
      "metadata": {
        "id": "y3BBUOCG-quL"
      },
      "execution_count": null,
      "outputs": []
    },
    {
      "cell_type": "code",
      "source": [
        "print(Lista_sinistra)"
      ],
      "metadata": {
        "id": "mAO6YZHF_WaK",
        "outputId": "c5e75321-fadc-4f94-d238-2fc06dc21582",
        "colab": {
          "base_uri": "https://localhost:8080/"
        }
      },
      "execution_count": null,
      "outputs": [
        {
          "output_type": "stream",
          "name": "stdout",
          "text": [
            "[{'buxa', 'peda comum', 'pão mordido', 'Creme do Carlinhos'}, {38, 6.9, 7, 999, 11.9, 2001, 308, 21}]\n"
          ]
        }
      ]
    },
    {
      "cell_type": "markdown",
      "source": [
        "##Exercício 5: Analisando uma Lista de Tuplas\n",
        "\n",
        "- Crie uma lista de tuplas, onde cada tupla contém um par (nome, idade).\n",
        "- Encontre e imprima o nome da pessoa mais velha.\n",
        "- Encontre e imprima a idade média das pessoas."
      ],
      "metadata": {
        "id": "KtVatd9TzJRC"
      }
    },
    {
      "cell_type": "code",
      "source": [
        "nome = [\n",
        "    (\"Carlinhos\", 69),\n",
        "    (\"Lucas\", 17),\n",
        "    (\"Leo\", 39),\n",
        "    (\"Sucokk\", 21)\n",
        "    ]\n"
      ],
      "metadata": {
        "id": "yLcULP8ozSHh"
      },
      "execution_count": null,
      "outputs": []
    },
    {
      "cell_type": "code",
      "source": [
        "Maior_Idade = 0\n",
        "nome_velho = \"\"\n",
        "\n",
        "if nome[0][1]> Maior_Idade:\n",
        "  Maior_Idade = nome[0][1]\n",
        "  nome_velho = nome[0][0]\n",
        "\n",
        "if nome[1][1]> Maior_Idade:\n",
        "  Maior_Idade = nome[1][1]\n",
        "  nome_velho = nome[1][0]\n",
        "\n",
        "if nome[2][1]> Maior_Idade:\n",
        "  Maior_Idade = nome[2][1]\n",
        "  nome_velho = nome[2][0]\n",
        "\n",
        "if nome[3][1]> Maior_Idade:\n",
        "  Maior_Idade = nome[3][1]\n",
        "  nome_velho = nome[3][0]\n",
        "\n",
        "media = (nome[0][1] + nome[1][1] + nome[2][1] + nome[3][1])/4\n"
      ],
      "metadata": {
        "id": "2v9M1J2ArKIU"
      },
      "execution_count": null,
      "outputs": []
    },
    {
      "cell_type": "code",
      "source": [
        "print(\"A Pessoa mais velha é: \", nome_velho)\n",
        "print(\"A Idade da pessoa mais velha é: \", Maior_Idade)\n",
        "print(\"A média é: \", media)"
      ],
      "metadata": {
        "colab": {
          "base_uri": "https://localhost:8080/"
        },
        "id": "6FIUWBQZ2Y21",
        "outputId": "c25fa19a-666b-4ef9-dd50-201570ab6847"
      },
      "execution_count": null,
      "outputs": [
        {
          "output_type": "stream",
          "name": "stdout",
          "text": [
            "A Pessoa mais velha é:  Carlinhos\n",
            "A Idade da pessoa mais velha é:  69\n",
            "A média é:  36.5\n"
          ]
        }
      ]
    }
  ]
}