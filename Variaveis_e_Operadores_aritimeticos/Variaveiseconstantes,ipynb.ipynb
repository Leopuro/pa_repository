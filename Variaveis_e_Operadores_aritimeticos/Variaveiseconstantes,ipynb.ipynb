{
  "nbformat": 4,
  "nbformat_minor": 0,
  "metadata": {
    "colab": {
      "provenance": [],
      "authorship_tag": "ABX9TyNC5eOtB9glRK/YxI2imAH9",
      "include_colab_link": true
    },
    "kernelspec": {
      "name": "python3",
      "display_name": "Python 3"
    },
    "language_info": {
      "name": "python"
    }
  },
  "cells": [
    {
      "cell_type": "markdown",
      "metadata": {
        "id": "view-in-github",
        "colab_type": "text"
      },
      "source": [
        "<a href=\"https://colab.research.google.com/github/Leopuro/pa_repository/blob/main/Variaveis_e_Operadores_aritimeticos/Variaveiseconstantes%2Cipynb.ipynb\" target=\"_parent\"><img src=\"https://colab.research.google.com/assets/colab-badge.svg\" alt=\"Open In Colab\"/></a>"
      ]
    },
    {
      "cell_type": "markdown",
      "source": [
        "# Variaveis e constantes\n",
        "\n"
      ],
      "metadata": {
        "id": "tkEDN39PggFv"
      }
    },
    {
      "cell_type": "code",
      "source": [
        "idade = 15\n",
        "altura = 1.9\n",
        "nome = \"Leonardo\"\n",
        "vai = True"
      ],
      "metadata": {
        "id": "JqbTNkJPglDf"
      },
      "execution_count": null,
      "outputs": []
    },
    {
      "cell_type": "code",
      "source": [
        "nomes = [\"leonardo\", \"Gabriel\", \"joel\"]\n",
        "nomes2 = (\"leonardo\", \"Gabriel\", \"joel\")\n"
      ],
      "metadata": {
        "id": "UmF1fHthibUZ"
      },
      "execution_count": null,
      "outputs": []
    },
    {
      "cell_type": "code",
      "source": [
        "print(nome)\n",
        "print(nomes)\n",
        "print(nomes2)\n",
        "tudo = {nome:\"Leonardo\",idade: 15,altura: 1.9,vai:True}\n"
      ],
      "metadata": {
        "colab": {
          "base_uri": "https://localhost:8080/"
        },
        "id": "tM3s0CW6jV0r",
        "outputId": "dfabdc39-210a-4888-d4b1-847d0ddce641"
      },
      "execution_count": null,
      "outputs": [
        {
          "output_type": "stream",
          "name": "stdout",
          "text": [
            "Leonardo\n",
            "['leonardo', 'Gabriel', 'joel']\n",
            "('leonardo', 'Gabriel', 'joel')\n"
          ]
        }
      ]
    },
    {
      "cell_type": "code",
      "source": [
        "print(type(idade))\n",
        "print(type(altura))\n",
        "print(type(vai))\n",
        "print(type(nome))\n",
        "print(type(nomes))\n",
        "print(type(nomes2))\n"
      ],
      "metadata": {
        "colab": {
          "base_uri": "https://localhost:8080/"
        },
        "id": "3UYq2XJmkQ4G",
        "outputId": "dfe9ea6d-56e0-4453-964b-b5dc4ef14471"
      },
      "execution_count": null,
      "outputs": [
        {
          "output_type": "stream",
          "name": "stdout",
          "text": [
            "<class 'int'>\n",
            "<class 'float'>\n",
            "<class 'bool'>\n",
            "<class 'str'>\n",
            "<class 'list'>\n",
            "<class 'tuple'>\n"
          ]
        }
      ]
    },
    {
      "cell_type": "code",
      "source": [
        "print(\"O nome dele é:\", nome, \", sua idade é:\", idade, \",ele tem:\", altura, \"metros de altura\")"
      ],
      "metadata": {
        "colab": {
          "base_uri": "https://localhost:8080/"
        },
        "id": "kkNtK-mXpyGy",
        "outputId": "a6a44782-ba6b-4642-dde5-4611645638fc"
      },
      "execution_count": null,
      "outputs": [
        {
          "output_type": "stream",
          "name": "stdout",
          "text": [
            "O nome dele é: Leonardo , sua idade é: 15 ,ele tem: 1.9 metros de altura\n"
          ]
        }
      ]
    },
    {
      "cell_type": "code",
      "source": [
        "Valor = 17"
      ],
      "metadata": {
        "id": "tYxIO3hIskJR"
      },
      "execution_count": null,
      "outputs": []
    },
    {
      "cell_type": "code",
      "source": [
        "print(f\"O valor total de sua compra foi: {Valor} Reais!\")"
      ],
      "metadata": {
        "colab": {
          "base_uri": "https://localhost:8080/"
        },
        "id": "eZSNkJbIsxHo",
        "outputId": "8044c5fd-7b28-490c-a764-7bcc2010d411"
      },
      "execution_count": null,
      "outputs": [
        {
          "output_type": "stream",
          "name": "stdout",
          "text": [
            "O valor total de sua compra foi: 17 Reais!\n"
          ]
        }
      ]
    },
    {
      "cell_type": "markdown",
      "source": [
        "Área do **Círculo**"
      ],
      "metadata": {
        "id": "cUF4xx8bvdoj"
      }
    },
    {
      "cell_type": "code",
      "source": [
        "PI = 3.14159265358979323846\n",
        "raio = float(input(\"Digite o valor do rário do circulo: \"))"
      ],
      "metadata": {
        "colab": {
          "base_uri": "https://localhost:8080/"
        },
        "id": "HHZ6O1XTvvyv",
        "outputId": "27264f5f-957b-4c4f-c691-e188e1b6b0f6"
      },
      "execution_count": null,
      "outputs": [
        {
          "name": "stdout",
          "output_type": "stream",
          "text": [
            "Digite o valor do rário do circulo: 80\n"
          ]
        }
      ]
    },
    {
      "cell_type": "code",
      "source": [
        "areacir = PI * (raio**2)"
      ],
      "metadata": {
        "id": "Gy-clxvMwqn2"
      },
      "execution_count": null,
      "outputs": []
    },
    {
      "cell_type": "code",
      "source": [
        "print(f\"A area do círulo é {areacir}\")\n"
      ],
      "metadata": {
        "colab": {
          "base_uri": "https://localhost:8080/"
        },
        "id": "cWtcqJiryEBC",
        "outputId": "b50b46ae-b883-403d-a61a-76c53c45e2e2"
      },
      "execution_count": null,
      "outputs": [
        {
          "output_type": "stream",
          "name": "stdout",
          "text": [
            "A area do círulo é 20106.192982974677\n"
          ]
        }
      ]
    },
    {
      "cell_type": "code",
      "source": [],
      "metadata": {
        "id": "cAYm_J2-1FtF"
      },
      "execution_count": null,
      "outputs": []
    }
  ]
}