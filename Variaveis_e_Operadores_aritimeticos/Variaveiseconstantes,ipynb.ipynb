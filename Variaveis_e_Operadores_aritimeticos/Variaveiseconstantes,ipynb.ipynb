{
  "nbformat": 4,
  "nbformat_minor": 0,
  "metadata": {
    "colab": {
      "provenance": [],
      "authorship_tag": "ABX9TyPDA5deMmfV79YkC04sm0Tg",
      "include_colab_link": true
    },
    "kernelspec": {
      "name": "python3",
      "display_name": "Python 3"
    },
    "language_info": {
      "name": "python"
    }
  },
  "cells": [
    {
      "cell_type": "markdown",
      "metadata": {
        "id": "view-in-github",
        "colab_type": "text"
      },
      "source": [
        "<a href=\"https://colab.research.google.com/github/Leopuro/pa_repository/blob/main/Variaveis_e_Operadores_aritimeticos/Variaveiseconstantes%2Cipynb.ipynb\" target=\"_parent\"><img src=\"https://colab.research.google.com/assets/colab-badge.svg\" alt=\"Open In Colab\"/></a>"
      ]
    },
    {
      "cell_type": "markdown",
      "source": [
        "# Variaveis e constantes\n",
        "\n"
      ],
      "metadata": {
        "id": "tkEDN39PggFv"
      }
    },
    {
      "cell_type": "code",
      "source": [
        "idade = 15\n",
        "altura = 1.9\n",
        "nome = \"Leonardo\"\n",
        "vai = True"
      ],
      "metadata": {
        "id": "JqbTNkJPglDf"
      },
      "execution_count": null,
      "outputs": []
    },
    {
      "cell_type": "code",
      "source": [
        "nomes = [\"leonardo\", \"Gabriel\", \"joel\"]\n",
        "nomes2 = (\"leonardo\", \"Gabriel\", \"joel\")\n"
      ],
      "metadata": {
        "id": "UmF1fHthibUZ"
      },
      "execution_count": null,
      "outputs": []
    },
    {
      "cell_type": "code",
      "source": [
        "print(nome)\n",
        "print(nomes)\n",
        "print(nomes2)\n",
        "tudo = {nome:\"Leonardo\",idade: 15,altura: 1.9,vai:True}\n"
      ],
      "metadata": {
        "colab": {
          "base_uri": "https://localhost:8080/"
        },
        "id": "tM3s0CW6jV0r",
        "outputId": "dfabdc39-210a-4888-d4b1-847d0ddce641"
      },
      "execution_count": null,
      "outputs": [
        {
          "output_type": "stream",
          "name": "stdout",
          "text": [
            "Leonardo\n",
            "['leonardo', 'Gabriel', 'joel']\n",
            "('leonardo', 'Gabriel', 'joel')\n"
          ]
        }
      ]
    },
    {
      "cell_type": "code",
      "source": [
        "print(type(idade))\n",
        "print(type(altura))\n",
        "print(type(vai))\n",
        "print(type(nome))\n",
        "print(type(nomes))\n",
        "print(type(nomes2))\n"
      ],
      "metadata": {
        "colab": {
          "base_uri": "https://localhost:8080/"
        },
        "id": "3UYq2XJmkQ4G",
        "outputId": "dfe9ea6d-56e0-4453-964b-b5dc4ef14471"
      },
      "execution_count": null,
      "outputs": [
        {
          "output_type": "stream",
          "name": "stdout",
          "text": [
            "<class 'int'>\n",
            "<class 'float'>\n",
            "<class 'bool'>\n",
            "<class 'str'>\n",
            "<class 'list'>\n",
            "<class 'tuple'>\n"
          ]
        }
      ]
    },
    {
      "cell_type": "code",
      "source": [
        "print(\"O nome dele é:\", nome, \", sua idade é:\", idade, \",ele tem:\", altura, \"metros de altura\")"
      ],
      "metadata": {
        "colab": {
          "base_uri": "https://localhost:8080/"
        },
        "id": "kkNtK-mXpyGy",
        "outputId": "a6a44782-ba6b-4642-dde5-4611645638fc"
      },
      "execution_count": null,
      "outputs": [
        {
          "output_type": "stream",
          "name": "stdout",
          "text": [
            "O nome dele é: Leonardo , sua idade é: 15 ,ele tem: 1.9 metros de altura\n"
          ]
        }
      ]
    },
    {
      "cell_type": "code",
      "source": [
        "Valor = 17"
      ],
      "metadata": {
        "id": "tYxIO3hIskJR"
      },
      "execution_count": null,
      "outputs": []
    },
    {
      "cell_type": "code",
      "source": [
        "print(f\"O valor total de sua compra foi: {Valor} Reais!\")"
      ],
      "metadata": {
        "colab": {
          "base_uri": "https://localhost:8080/"
        },
        "id": "eZSNkJbIsxHo",
        "outputId": "8044c5fd-7b28-490c-a764-7bcc2010d411"
      },
      "execution_count": null,
      "outputs": [
        {
          "output_type": "stream",
          "name": "stdout",
          "text": [
            "O valor total de sua compra foi: 17 Reais!\n"
          ]
        }
      ]
    },
    {
      "cell_type": "markdown",
      "source": [
        "Área do **Círculo**"
      ],
      "metadata": {
        "id": "cUF4xx8bvdoj"
      }
    },
    {
      "cell_type": "code",
      "source": [
        "PI = 3,14159265358979323846\n",
        "raio = float(input(\"Digite o valor do rário do circulo: \"))"
      ],
      "metadata": {
        "colab": {
          "base_uri": "https://localhost:8080/"
        },
        "id": "HHZ6O1XTvvyv",
        "outputId": "34da5957-4a45-4bbc-a752-38eb9603acc4"
      },
      "execution_count": 6,
      "outputs": [
        {
          "name": "stdout",
          "output_type": "stream",
          "text": [
            "Digite o valor do rário do circulo: 2\n"
          ]
        }
      ]
    },
    {
      "cell_type": "code",
      "source": [
        "areacir = PI * (raio**2)"
      ],
      "metadata": {
        "id": "Gy-clxvMwqn2"
      },
      "execution_count": 8,
      "outputs": []
    },
    {
      "cell_type": "code",
      "source": [
        "print(f\"A area do círulo é {areacir}\")\n"
      ],
      "metadata": {
        "colab": {
          "base_uri": "https://localhost:8080/"
        },
        "id": "cWtcqJiryEBC",
        "outputId": "b50b46ae-b883-403d-a61a-76c53c45e2e2"
      },
      "execution_count": null,
      "outputs": [
        {
          "output_type": "stream",
          "name": "stdout",
          "text": [
            "A area do círulo é 20106.192982974677\n"
          ]
        }
      ]
    },
    {
      "cell_type": "markdown",
      "source": [
        "#Exercício 1\n"
      ],
      "metadata": {
        "id": "enCicDuWqpTN"
      }
    },
    {
      "cell_type": "code",
      "source": [
        "base = float(input(\"Base é igual a:\"))\n",
        "altura = float(input(\"Altura é igual a:\"))\n",
        "area = base * altura\n",
        "print(f\"A area do Retângulo é {area}\")"
      ],
      "metadata": {
        "colab": {
          "base_uri": "https://localhost:8080/"
        },
        "id": "62e3SOZAq8WI",
        "outputId": "4e873709-ee81-4c37-b2ce-aa7d68f954cb"
      },
      "execution_count": 13,
      "outputs": [
        {
          "output_type": "stream",
          "name": "stdout",
          "text": [
            "Base é igual a:10\n",
            "Altura é igual a:20\n",
            "A area do Retângulo é 200.0\n"
          ]
        }
      ]
    },
    {
      "cell_type": "markdown",
      "source": [
        "# Exercício 2"
      ],
      "metadata": {
        "id": "1tUxjsLzv0xa"
      }
    },
    {
      "cell_type": "code",
      "source": [
        "PI = 3.14159265358979323846\n",
        "raio = float(input(\"Digite o Raio:\"))\n",
        "perimetro = 2 * PI * raio\n",
        "print(f\"O perimetro do circulo é: {perimetro}\")"
      ],
      "metadata": {
        "colab": {
          "base_uri": "https://localhost:8080/"
        },
        "id": "VMqBxjHkv5X5",
        "outputId": "381aaf7d-f491-46be-9b96-5d239214df86"
      },
      "execution_count": 17,
      "outputs": [
        {
          "output_type": "stream",
          "name": "stdout",
          "text": [
            "Digite o Raio:23\n",
            "O perimetro do circulo é: 144.51326206513048\n"
          ]
        }
      ]
    },
    {
      "cell_type": "markdown",
      "source": [
        "#Exercício 3"
      ],
      "metadata": {
        "id": "4gfcZP9zxsYH"
      }
    },
    {
      "cell_type": "code",
      "source": [
        "fahrenheit = float(input(\"Digite uma temperatura em Fahrenheit é:°\"))\n",
        "celsius = (fahrenheit - 32) * 5/9\n",
        "print(f\"A temperatural atual em celsius é: {celsius}\")"
      ],
      "metadata": {
        "colab": {
          "base_uri": "https://localhost:8080/"
        },
        "id": "dYdVsjO_xxTf",
        "outputId": "bffce08e-b8d0-48ea-8622-88fbec6acdb8"
      },
      "execution_count": 31,
      "outputs": [
        {
          "output_type": "stream",
          "name": "stdout",
          "text": [
            "Digite uma temperatura em Fahrenheit é:°30\n",
            "A temperatural atual em celsius é: -1.1111111111111112\n"
          ]
        }
      ]
    },
    {
      "cell_type": "markdown",
      "source": [
        "#Exercício 4"
      ],
      "metadata": {
        "id": "e3rS2XWj2oEb"
      }
    },
    {
      "cell_type": "code",
      "source": [
        "Peso = float(input(\"Qual o seu peso?:\"))\n",
        "Altura = float(input(\"Qual a sua altura?:\"))\n",
        "IMC = Peso / (Altura * Altura)\n",
        "print(f\"Seu IMS é: {IMC}\")\n"
      ],
      "metadata": {
        "colab": {
          "base_uri": "https://localhost:8080/"
        },
        "id": "sgf5WVR12rpq",
        "outputId": "d1447667-2baf-4824-9065-aeab9a52649f"
      },
      "execution_count": 43,
      "outputs": [
        {
          "output_type": "stream",
          "name": "stdout",
          "text": [
            "Qual o seu peso?:64\n",
            "Qual a sua altura?:1.71\n",
            "Seu IMS é: 21.887076365377382\n"
          ]
        }
      ]
    },
    {
      "cell_type": "code",
      "source": [],
      "metadata": {
        "id": "PWczve173VI7"
      },
      "execution_count": null,
      "outputs": []
    }
  ]
}