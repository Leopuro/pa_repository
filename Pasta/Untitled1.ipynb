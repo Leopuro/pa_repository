{
  "nbformat": 4,
  "nbformat_minor": 0,
  "metadata": {
    "colab": {
      "provenance": [],
      "authorship_tag": "ABX9TyNV5N0JjOzMcbtC5BjVtGiF",
      "include_colab_link": true
    },
    "kernelspec": {
      "name": "python3",
      "display_name": "Python 3"
    },
    "language_info": {
      "name": "python"
    }
  },
  "cells": [
    {
      "cell_type": "markdown",
      "metadata": {
        "id": "view-in-github",
        "colab_type": "text"
      },
      "source": [
        "<a href=\"https://colab.research.google.com/github/Leopuro/pa_repository/blob/main/Pasta/Untitled1.ipynb\" target=\"_parent\"><img src=\"https://colab.research.google.com/assets/colab-badge.svg\" alt=\"Open In Colab\"/></a>"
      ]
    },
    {
      "cell_type": "code",
      "execution_count": null,
      "metadata": {
        "id": "TAxg8sViVlK9"
      },
      "outputs": [],
      "source": [
        "Aula = \"The boiled one is here!\""
      ]
    },
    {
      "cell_type": "code",
      "source": [
        "print(Aula)"
      ],
      "metadata": {
        "colab": {
          "base_uri": "https://localhost:8080/"
        },
        "id": "whafKZzGVq2B",
        "outputId": "57161387-a60e-44a4-8136-1457fb060e72"
      },
      "execution_count": null,
      "outputs": [
        {
          "output_type": "stream",
          "name": "stdout",
          "text": [
            "The boiled one is here!\n"
          ]
        }
      ]
    },
    {
      "cell_type": "code",
      "source": [
        "#entrada\n",
        "lado = 4"
      ],
      "metadata": {
        "id": "oYYtynguWVp9"
      },
      "execution_count": null,
      "outputs": []
    },
    {
      "cell_type": "code",
      "source": [
        "#Processamento\n",
        "Area = lado * lado"
      ],
      "metadata": {
        "id": "fpl3fyCsZftQ"
      },
      "execution_count": null,
      "outputs": []
    },
    {
      "cell_type": "code",
      "source": [
        "#saida\n",
        "Print(\"A area do quadrado é\", area)"
      ],
      "metadata": {
        "id": "yZI3HxYkZx4c"
      },
      "execution_count": null,
      "outputs": []
    }
  ]
}